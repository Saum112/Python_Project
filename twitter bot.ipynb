{
 "cells": [
  {
   "cell_type": "code",
   "execution_count": 1,
   "metadata": {},
   "outputs": [],
   "source": [
    "import tweepy\n",
    "import time"
   ]
  },
  {
   "cell_type": "code",
   "execution_count": 2,
   "metadata": {},
   "outputs": [],
   "source": [
    "auth = tweepy.OAuthHandler('2HQzIqfHabwVC5QzFdAgP4Mlv', 'oRSXEEK9eVd4yrtyPFQn4Akv8SpfrXug0S73uCgzg8UwyNkxuY')\n",
    "auth.set_access_token('1290973520315351042-RRBkx1dgRulegUA475cjnW9Ww4JJWF','zAddYhh7kLqnDI2IWmgpC9vPcA7bjgvzvgBNEcHBGoLe3')\n",
    "api = tweepy.API(auth, wait_on_rate_limit=True, wait_on_rate_limit_notify=True)"
   ]
  },
  {
   "cell_type": "code",
   "execution_count": 3,
   "metadata": {},
   "outputs": [],
   "source": [
    "# user = api.me()\n",
    "# hashtags and usernames whose posts will be liked by twitter bot\n",
    "search = ['#100daysofCode', '@python_jobs', '#udemy','@codechef','#SCForSushant', 'Python']\n",
    "nlikes = 500"
   ]
  },
  {
   "cell_type": "code",
   "execution_count": null,
   "metadata": {},
   "outputs": [
    {
     "name": "stdout",
     "output_type": "stream",
     "text": [
      "Tweet Liked\n",
      "Tweet Liked\n",
      "Tweet Liked\n",
      "Tweet Liked\n",
      "Tweet Liked\n",
      "Tweet Liked\n",
      "Tweet Liked\n",
      "Tweet Liked\n",
      "Tweet Liked\n",
      "Tweet Liked\n",
      "Tweet Liked\n",
      "Tweet Liked\n",
      "Tweet Liked\n",
      "Tweet Liked\n"
     ]
    }
   ],
   "source": [
    "for i in search:\n",
    "    for tweet in tweepy.Cursor(api.search, i).items(nlikes):\n",
    "        try:\n",
    "            print('Tweet Liked')\n",
    "            # tweet.favorite()\n",
    "            time.sleep(10)\n",
    "        except tweepy.TweepError as e:\n",
    "            print(e.reason)\n",
    "        except StopIteration:\n",
    "            break"
   ]
  },
  {
   "cell_type": "code",
   "execution_count": null,
   "metadata": {},
   "outputs": [],
   "source": []
  }
 ],
 "metadata": {
  "kernelspec": {
   "display_name": "Python 3",
   "language": "python",
   "name": "python3"
  },
  "language_info": {
   "codemirror_mode": {
    "name": "ipython",
    "version": 3
   },
   "file_extension": ".py",
   "mimetype": "text/x-python",
   "name": "python",
   "nbconvert_exporter": "python",
   "pygments_lexer": "ipython3",
   "version": "3.7.6"
  }
 },
 "nbformat": 4,
 "nbformat_minor": 4
}
